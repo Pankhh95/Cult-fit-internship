{
 "cells": [
  {
   "cell_type": "markdown",
   "id": "2c78af1f-3714-4173-8c62-d9378d3535d8",
   "metadata": {},
   "source": [
    "### Importing Datasets"
   ]
  },
  {
   "cell_type": "code",
   "execution_count": 8,
   "id": "0cc654f8-b76c-4241-aa36-11a875725425",
   "metadata": {},
   "outputs": [
    {
     "name": "stdout",
     "output_type": "stream",
     "text": [
      "<class 'pandas.core.frame.DataFrame'>\n",
      "RangeIndex: 3289 entries, 0 to 3288\n",
      "Data columns (total 7 columns):\n",
      " #   Column                                   Non-Null Count  Dtype  \n",
      "---  ------                                   --------------  -----  \n",
      " 0   ActivitySiteID                           3289 non-null   object \n",
      " 1   ActivityDescription                      3289 non-null   object \n",
      " 2   BookingEndDateTime (Month / Day / Year)  3289 non-null   object \n",
      " 3   BookingStartTime                         3289 non-null   object \n",
      " 4   MaxBookees                               3289 non-null   int64  \n",
      " 5   Number Booked                            3289 non-null   int64  \n",
      " 6   Price (INR)                              3271 non-null   float64\n",
      "dtypes: float64(1), int64(2), object(4)\n",
      "memory usage: 180.0+ KB\n",
      "None\n"
     ]
    }
   ],
   "source": [
    "import pandas as pd\n",
    "\n",
    "# Load datasets\n",
    "april_may_data = pd.read_csv(r\"C:\\Users\\ASUS\\Downloads\\Fitness_Classes_Data\\Fitness Classes Data\\Classes April-May 2018.csv\")\n",
    "june_data = pd.read_csv(r\"C:\\Users\\ASUS\\Downloads\\Fitness_Classes_Data\\Fitness Classes Data\\Classes June 2018.csv\")\n",
    "\n",
    "# Combine datasets\n",
    "combined_data = pd.concat([april_may_data, june_data], ignore_index=True)\n",
    "\n",
    "# Display combined dataset info\n",
    "print(combined_data.info())"
   ]
  },
  {
   "cell_type": "markdown",
   "id": "cf556d92-ce4b-4097-99ef-b0001da59ea4",
   "metadata": {},
   "source": [
    "### Preprocessing"
   ]
  },
  {
   "cell_type": "code",
   "execution_count": 9,
   "id": "5db0d7f3-01de-4ad1-bc7a-c9d6ae025f96",
   "metadata": {},
   "outputs": [
    {
     "name": "stderr",
     "output_type": "stream",
     "text": [
      "C:\\Users\\ASUS\\AppData\\Local\\Temp\\ipykernel_4160\\4119830071.py:11: UserWarning: Could not infer format, so each element will be parsed individually, falling back to `dateutil`. To ensure parsing is consistent and as-expected, please specify a format.\n",
      "  combined_data['BookingStartTime'] = pd.to_datetime(combined_data['BookingStartTime'], errors='coerce')\n",
      "C:\\Users\\ASUS\\AppData\\Local\\Temp\\ipykernel_4160\\4119830071.py:12: UserWarning: Could not infer format, so each element will be parsed individually, falling back to `dateutil`. To ensure parsing is consistent and as-expected, please specify a format.\n",
      "  combined_data['BookingEndDateTime'] = pd.to_datetime(combined_data['BookingEndDateTime'], errors='coerce')\n"
     ]
    }
   ],
   "source": [
    "# Data Cleaning\n",
    "# Correct column name for 'BookingEndDateTime'\n",
    "combined_data.rename(columns={\n",
    "    'BookingEndDateTime (Month / Day / Year)': 'BookingEndDateTime'\n",
    "}, inplace=True)\n",
    "\n",
    "# Fill missing 'Price (INR)' values with median\n",
    "combined_data['Price (INR)'] = combined_data['Price (INR)'].fillna(combined_data['Price (INR)'].median())\n",
    "\n",
    "# Ensure 'BookingStartTime' and 'BookingEndDateTime' are datetime, handle errors\n",
    "combined_data['BookingStartTime'] = pd.to_datetime(combined_data['BookingStartTime'], errors='coerce')\n",
    "combined_data['BookingEndDateTime'] = pd.to_datetime(combined_data['BookingEndDateTime'], errors='coerce')\n",
    "\n",
    "# Drop rows where 'BookingStartTime' or 'BookingEndDateTime' is invalid (NaT)\n",
    "combined_data.dropna(subset=['BookingStartTime', 'BookingEndDateTime'], inplace=True)"
   ]
  },
  {
   "cell_type": "markdown",
   "id": "5611e155-24b6-4b4c-8d7c-606d9868c0ed",
   "metadata": {},
   "source": [
    "### Feature Engineering"
   ]
  },
  {
   "cell_type": "code",
   "execution_count": 10,
   "id": "fd243844-0b58-4e32-9f61-0365794af8c2",
   "metadata": {},
   "outputs": [],
   "source": [
    "# Extract relevant features from 'BookingStartTime' and 'BookingEndDateTime'\n",
    "combined_data['Month'] = combined_data['BookingStartTime'].dt.month\n",
    "combined_data['DayOfWeek'] = combined_data['BookingStartTime'].dt.day_name()\n",
    "combined_data['StartHour'] = combined_data['BookingStartTime'].dt.hour\n",
    "\n",
    "# Ensure 'Number Booked' and 'MaxBookees' are numeric\n",
    "combined_data['Number Booked'] = pd.to_numeric(combined_data['Number Booked'], errors='coerce')\n",
    "combined_data['MaxBookees'] = pd.to_numeric(combined_data['MaxBookees'], errors='coerce')\n",
    "\n",
    "# Calculate 'DemandRatio', handle division by zero or invalid values\n",
    "combined_data['DemandRatio'] = combined_data['Number Booked'] / combined_data['MaxBookees']\n",
    "combined_data['DemandRatio'].replace([float('inf'), -float('inf'), float('nan')], 0, inplace=True)\n",
    "\n",
    "# Calculate 'ClassDuration' in minutes\n",
    "combined_data['ClassDuration'] = (combined_data['BookingEndDateTime'] - combined_data['BookingStartTime']).dt.total_seconds() / 60"
   ]
  },
  {
   "cell_type": "markdown",
   "id": "85f9929c-68e4-495d-9e76-8505b273bd10",
   "metadata": {},
   "source": [
    "### Save and processed dataset"
   ]
  },
  {
   "cell_type": "code",
   "execution_count": 11,
   "id": "4cf55ed2-4193-4ce2-91c9-adc1d4c3714d",
   "metadata": {},
   "outputs": [
    {
     "name": "stdout",
     "output_type": "stream",
     "text": [
      "Processed data saved to 'processed_fitness_data.csv'\n"
     ]
    }
   ],
   "source": [
    "# Save the processed dataset\n",
    "combined_data.to_csv(\"processed_fitness_data.csv\", index=False)\n",
    "\n",
    "# Confirm that the file has been saved\n",
    "print(\"Processed data saved to 'processed_fitness_data.csv'\")"
   ]
  },
  {
   "cell_type": "markdown",
   "id": "5a962cf9-bd1d-4018-beb4-2efc610c171a",
   "metadata": {},
   "source": [
    "### Export cleaned data as .xlsx"
   ]
  },
  {
   "cell_type": "code",
   "execution_count": 15,
   "id": "89dc9a3f-3056-41f5-a88f-0d6cc7092d9a",
   "metadata": {},
   "outputs": [],
   "source": [
    "df = combined_data\n",
    "df.to_excel('cleaned_data_final_PriyankaSher.xlsx', index=False)"
   ]
  },
  {
   "cell_type": "code",
   "execution_count": 16,
   "id": "35ee2bc3-c8d8-45bb-a63d-cafe29ff04ae",
   "metadata": {},
   "outputs": [
    {
     "name": "stdout",
     "output_type": "stream",
     "text": [
      "C:\\Users\\ASUS\n"
     ]
    }
   ],
   "source": [
    "import os\n",
    "print(os.getcwd())"
   ]
  },
  {
   "cell_type": "code",
   "execution_count": 18,
   "id": "121a72df-6ec7-4e19-97c4-d5c0a9cff99f",
   "metadata": {},
   "outputs": [],
   "source": [
    "df.to_excel(r'C:\\Users\\ASUS\\Documents\\cleaned_data_final_ASUS.xlsx', index=False)"
   ]
  },
  {
   "cell_type": "code",
   "execution_count": 19,
   "id": "8cb43fd2-93c2-4f20-938e-0a14ca0833df",
   "metadata": {},
   "outputs": [
    {
     "name": "stdout",
     "output_type": "stream",
     "text": [
      "['.anaconda', '.conda', '.condarc', '.continuum', '.ipynb_checkpoints', '.ipython', '.jupyter', '.matplotlib', '.ms-ad', '.virtual_documents', '01_Basics_of_NumPy.ipynb', '50_Startups_8fa52acf-e917-45ec-bd77-03b02f69e78b.csv', 'anaconda3', 'AppData', 'Application Data', 'Automobile_data_0926865c-0568-42dd-99f0-be8d8dbbe5bf (1).csv', 'Car+Price+Prediction+-+Assignment+Solution.ipynb', 'Case+Study+Notebook.zip', 'cleaned_data_final_PriyankaSher.xlsx', 'cleaned_data_final_VrushaliPatel.xlsx', 'Contacts', 'Cookies', 'Data cleaning and preprocessing code_Vrushali Patel (1).ipynb', 'Data science', 'Data_Visualization_EDA_3__f4972e25-4cec-453c-ac2c-3ce66dd43846.ipynb', 'Desktop', 'Documents', 'Downloads', 'Dynamic_pricing_strategies_for_fitness_classes.ipynb', 'EDA+Graded+Exercise.ipynb', 'FAF_functions__e3caf251-920e-4afa-af86-d3071833bf13.ipynb', 'Favorites', 'Geely_Automotive_Pricing_Model-checkpoint.ipynb', 'Geely_Automotive_Pricing_Model.ipynb', 'Geely_Auto_Linear_Regression.ipynb', 'Geely_Pricing_Model.ipynb', 'Gramener Case Study 1.ipynb', 'Lab_2_Classroom_Exercise_1__bee0c5a5-b538-4479-be1e-2c14d87f970e.ipynb', 'LAB_2_Classroom_Exercise__543124ff-78aa-4347-a388-547481468e73.ipynb', 'Lab_3_Classroom_Exercise_1__7ccb8205-9057-4fd1-a456-f2ae5406c920.ipynb', 'LAB_3_Classroom_Exercise_b51a788e-3bc5-4430-8fad-b3f0cae75c67.ipynb', 'Lending+Club+Default+Analysis.ipynb', 'Links', 'Local Settings', 'module practice', 'Movieset.ipynb', 'Music', 'My Documents', 'NetHood', 'NTUSER.DAT', 'ntuser.dat.LOG1', 'ntuser.dat.LOG2', 'NTUSER.DAT{cb1783ec-bd61-11ed-a956-1068383abe93}.TM.blf', 'NTUSER.DAT{cb1783ec-bd61-11ed-a956-1068383abe93}.TMContainer00000000000000000001.regtrans-ms', 'NTUSER.DAT{cb1783ec-bd61-11ed-a956-1068383abe93}.TMContainer00000000000000000002.regtrans-ms', 'ntuser.ini', 'NumPy.ipynb', 'OneDrive', 'Pictures', 'PrintHood', 'processed_fitness_data.csv', 'Python basics', 'real_estate_price_predictor_1__9850d93f-a920-4dea-aeac-27748b53b9bc (1).ipynb', 'Recent', 'Saved Games', 'Searches', 'Secondcoding.ipynb', 'SendTo', 'Set.ipynb', 'Start Menu', 'Templates', 'Untitled.ipynb', 'Untitled1.ipynb', 'Untitled2.ipynb', 'Untitled3.ipynb', 'Untitled4.ipynb', 'Untitled5.ipynb', 'Untitled6.ipynb', 'Untitled7.ipynb', 'Untitled8.ipynb', 'Videos']\n"
     ]
    }
   ],
   "source": [
    "import os\n",
    "print(os.listdir())"
   ]
  },
  {
   "cell_type": "code",
   "execution_count": null,
   "id": "8c795bcf-9101-4821-aeac-e42bec8ab169",
   "metadata": {},
   "outputs": [],
   "source": []
  }
 ],
 "metadata": {
  "kernelspec": {
   "display_name": "Python 3 (ipykernel)",
   "language": "python",
   "name": "python3"
  },
  "language_info": {
   "codemirror_mode": {
    "name": "ipython",
    "version": 3
   },
   "file_extension": ".py",
   "mimetype": "text/x-python",
   "name": "python",
   "nbconvert_exporter": "python",
   "pygments_lexer": "ipython3",
   "version": "3.11.7"
  }
 },
 "nbformat": 4,
 "nbformat_minor": 5
}
